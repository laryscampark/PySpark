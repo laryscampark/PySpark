{
  "cells": [
    {
      "cell_type": "markdown",
      "metadata": {
        "id": "view-in-github",
        "colab_type": "text"
      },
      "source": [
        "<a href=\"https://colab.research.google.com/github/laryscampark/PySpark/blob/main/dados_IF.ipynb\" target=\"_parent\"><img src=\"https://colab.research.google.com/assets/colab-badge.svg\" alt=\"Open In Colab\"/></a>"
      ]
    },
    {
      "cell_type": "markdown",
      "metadata": {
        "id": "boZWCs3wPbta"
      },
      "source": [
        "Introduçao ao Pandas"
      ]
    },
    {
      "cell_type": "code",
      "execution_count": null,
      "metadata": {
        "id": "af1T0M-2NnKZ"
      },
      "outputs": [],
      "source": [
        "! pip install pyspark"
      ]
    },
    {
      "cell_type": "code",
      "source": [
        "from pyspark.sql import SparkSession\n",
        "from pyspark.sql.functions import *\n",
        "from pyspark.sql.types import *"
      ],
      "metadata": {
        "id": "6TIoSsNY6YQQ"
      },
      "execution_count": 20,
      "outputs": []
    },
    {
      "cell_type": "code",
      "source": [
        "spark = (\n",
        "    SparkSession.builder\n",
        "    .master('local')\n",
        "    .appName('Dados_Pixar')\n",
        "    .getOrCreate()\n",
        ")"
      ],
      "metadata": {
        "id": "WswZtnjO6xvu"
      },
      "execution_count": 21,
      "outputs": []
    },
    {
      "cell_type": "code",
      "source": [
        "df = spark.read.csv('/content/dados_pixar.csv', sep=';', header=True)"
      ],
      "metadata": {
        "id": "pMECeRNM-wg6"
      },
      "execution_count": 46,
      "outputs": []
    },
    {
      "cell_type": "code",
      "source": [
        "df.printSchema()"
      ],
      "metadata": {
        "id": "bEfveGjKEKat"
      },
      "execution_count": null,
      "outputs": []
    },
    {
      "cell_type": "code",
      "source": [
        "df.show(5, truncate=False)"
      ],
      "metadata": {
        "id": "Be8z8wYA_HM_",
        "outputId": "f9663c9d-44db-46bc-890a-54abe4e8afd6",
        "colab": {
          "base_uri": "https://localhost:8080/"
        }
      },
      "execution_count": 47,
      "outputs": [
        {
          "output_type": "stream",
          "name": "stdout",
          "text": [
            "+---------------------------------+---------+---------------------+------------------------+------------------+\n",
            "|filme                            |orcamento|bilheteria_eua_canada|bilheteria_outros_paises|bilheteria_mundial|\n",
            "+---------------------------------+---------+---------------------+------------------------+------------------+\n",
            "|Toy Story - Um Mundo de Aventuras|3,00E+07 |191796233            |181757800               |373554033         |\n",
            "|Vida de Inseto                   |1,20E+08 |162798565            |200460294               |363258859         |\n",
            "|Toy Story 2                      |9,00E+07 |245852179            |251522597               |497374776         |\n",
            "|Monstros S. A.                   |1,15E+08 |289916256            |342400393               |632316649         |\n",
            "|Procurando Nemo                  |9,40E+07 |339714978            |531300000               |871014978         |\n",
            "+---------------------------------+---------+---------------------+------------------------+------------------+\n",
            "only showing top 5 rows\n",
            "\n"
          ]
        }
      ]
    },
    {
      "cell_type": "code",
      "source": [
        "df.toPandas().isna().sum()"
      ],
      "metadata": {
        "id": "RHvHCEhCD4qp"
      },
      "execution_count": null,
      "outputs": []
    },
    {
      "cell_type": "code",
      "source": [
        "df = df.withColumnRenamed('filme', 'Filmes')\n",
        "df.show(truncate=False)"
      ],
      "metadata": {
        "id": "Bpk-21ZmEjDU"
      },
      "execution_count": null,
      "outputs": []
    },
    {
      "cell_type": "code",
      "source": [
        "df.select('Filmes', 'orcamento').show(5)"
      ],
      "metadata": {
        "id": "M9w82fSbFIdE"
      },
      "execution_count": null,
      "outputs": []
    },
    {
      "cell_type": "code",
      "source": [
        "df.show(15, truncate=False)"
      ],
      "metadata": {
        "id": "uYBnGhQzGBgK"
      },
      "execution_count": null,
      "outputs": []
    },
    {
      "cell_type": "code",
      "source": [
        "df = df.withColumn('Ano de Bilheteria', lit(2023))\n",
        "df.show()"
      ],
      "metadata": {
        "id": "JzmRf5zMGfil"
      },
      "execution_count": null,
      "outputs": []
    },
    {
      "cell_type": "code",
      "source": [
        "df.show()"
      ],
      "metadata": {
        "id": "DyXGDJN2GsU8",
        "outputId": "4f0c9e76-5b40-4d1d-f3ec-70a952b38107",
        "colab": {
          "base_uri": "https://localhost:8080/"
        }
      },
      "execution_count": 54,
      "outputs": [
        {
          "output_type": "stream",
          "name": "stdout",
          "text": [
            "+--------------------+---------+---------------------+------------------------+------------------+-----------------+\n",
            "|              Filmes|orcamento|bilheteria_eua_canada|bilheteria_outros_paises|bilheteria_mundial|Ano de Bilheteria|\n",
            "+--------------------+---------+---------------------+------------------------+------------------+-----------------+\n",
            "|Toy Story - Um Mu...| 3,00E+07|            191796233|               181757800|         373554033|             2023|\n",
            "|      Vida de Inseto| 1,20E+08|            162798565|               200460294|         363258859|             2023|\n",
            "|         Toy Story 2| 9,00E+07|            245852179|               251522597|         497374776|             2023|\n",
            "|      Monstros S. A.| 1,15E+08|            289916256|               342400393|         632316649|             2023|\n",
            "|     Procurando Nemo| 9,40E+07|            339714978|               531300000|         871014978|             2023|\n",
            "|        Os Incríveis| 9,20E+07|            261441092|               370165621|         631606713|             2023|\n",
            "|              Carros| 1,20E+08|            244082982|               217900167|         461983149|             2023|\n",
            "|         Ratatouille| 1,50E+08|            206445654|               417280431|         623726085|             2023|\n",
            "|              WALL-E| 1,80E+08|            223808164|               297503696|         521311860|             2023|\n",
            "|Up - Altas Aventuras| 1,75E+08|            293004164|               442094918|         735099082|             2023|\n",
            "|         Toy Story 3| 2,00E+08|            415004880|               651964823|        1066969703|             2023|\n",
            "|            Carros 2| 2,00E+08|            191452396|               368400000|         559852396|             2023|\n",
            "|             Valente| 1,85E+08|            237283207|               301700000|         538983207|             2023|\n",
            "|Universidade Mons...| 2,00E+08|            268492764|               475066843|         743559607|             2023|\n",
            "|      Divertidamente| 1,75E+08|            356461711|               501149463|         857611174|             2023|\n",
            "|    O Bom Dinossauro| 1,75E+08|            123087120|               209120551|         332207671|             2023|\n",
            "|     Procurando Dory| 2,00E+08|            486295561|               542275328|        1028570889|             2023|\n",
            "|            Carros 3| 1,75E+08|            152901115|               231029541|         383930656|             2023|\n",
            "|Viva - A Vida é U...| 1,75E+08|            209726015|               597356181|         807082196|             2023|\n",
            "|      Os Incríveis 2| 2,00E+08|            608581744|               634223615|        1242805359|             2023|\n",
            "+--------------------+---------+---------------------+------------------------+------------------+-----------------+\n",
            "only showing top 20 rows\n",
            "\n"
          ]
        }
      ]
    },
    {
      "cell_type": "code",
      "source": [
        "df.withColumn('Bilheteria', concat_ws(' - ','Filmes','orcamento')).show(6, truncate=False)"
      ],
      "metadata": {
        "id": "35cI2nxQHFGG"
      },
      "execution_count": null,
      "outputs": []
    },
    {
      "cell_type": "code",
      "source": [
        "df = df.orderBy(col(\"Filmes\"))\n",
        "\n",
        "df.show(truncate=False)"
      ],
      "metadata": {
        "id": "EHThJhEnIJbb",
        "outputId": "0f34cf1f-753a-450b-c6ab-bb8480dbf9cb",
        "colab": {
          "base_uri": "https://localhost:8080/"
        }
      },
      "execution_count": 60,
      "outputs": [
        {
          "output_type": "stream",
          "name": "stdout",
          "text": [
            "+-----------------------------------+---------+---------------------+------------------------+------------------+-----------------+\n",
            "|Filmes                             |orcamento|bilheteria_eua_canada|bilheteria_outros_paises|bilheteria_mundial|Ano de Bilheteria|\n",
            "+-----------------------------------+---------+---------------------+------------------------+------------------+-----------------+\n",
            "|Carros                             |1,20E+08 |244082982            |217900167               |461983149         |2023             |\n",
            "|Carros 2                           |2,00E+08 |191452396            |368400000               |559852396         |2023             |\n",
            "|Carros 3                           |1,75E+08 |152901115            |231029541               |383930656         |2023             |\n",
            "|Divertidamente                     |1,75E+08 |356461711            |501149463               |857611174         |2023             |\n",
            "|Dois Irmãos: Uma Jornada Fantástica|1,75E+08 |61555145             |80394976                |141950121         |2023             |\n",
            "|Monstros S. A.                     |1,15E+08 |289916256            |342400393               |632316649         |2023             |\n",
            "|O Bom Dinossauro                   |1,75E+08 |123087120            |209120551               |332207671         |2023             |\n",
            "|Os Incríveis                       |9,20E+07 |261441092            |370165621               |631606713         |2023             |\n",
            "|Os Incríveis 2                     |2,00E+08 |608581744            |634223615               |1242805359        |2023             |\n",
            "|Procurando Dory                    |2,00E+08 |486295561            |542275328               |1028570889        |2023             |\n",
            "|Procurando Nemo                    |9,40E+07 |339714978            |531300000               |871014978         |2023             |\n",
            "|Ratatouille                        |1,50E+08 |206445654            |417280431               |623726085         |2023             |\n",
            "|Soul                               |1,75E+08 |NA                   |135435315               |135435315         |2023             |\n",
            "|Toy Story - Um Mundo de Aventuras  |3,00E+07 |191796233            |181757800               |373554033         |2023             |\n",
            "|Toy Story 2                        |9,00E+07 |245852179            |251522597               |497374776         |2023             |\n",
            "|Toy Story 3                        |2,00E+08 |415004880            |651964823               |1066969703        |2023             |\n",
            "|Toy Story 4                        |2,00E+08 |434038008            |639356585               |1073394593        |2023             |\n",
            "|Universidade Monstros              |2,00E+08 |268492764            |475066843               |743559607         |2023             |\n",
            "|Up - Altas Aventuras               |1,75E+08 |293004164            |442094918               |735099082         |2023             |\n",
            "|Valente                            |1,85E+08 |237283207            |301700000               |538983207         |2023             |\n",
            "+-----------------------------------+---------+---------------------+------------------------+------------------+-----------------+\n",
            "only showing top 20 rows\n",
            "\n"
          ]
        }
      ]
    }
  ],
  "metadata": {
    "colab": {
      "provenance": [],
      "include_colab_link": true
    },
    "kernelspec": {
      "display_name": "Python 3",
      "name": "python3"
    },
    "language_info": {
      "codemirror_mode": {
        "name": "ipython",
        "version": 3
      },
      "file_extension": ".py",
      "mimetype": "text/x-python",
      "name": "python",
      "nbconvert_exporter": "python",
      "pygments_lexer": "ipython3",
      "version": "3.12.2"
    }
  },
  "nbformat": 4,
  "nbformat_minor": 0
}