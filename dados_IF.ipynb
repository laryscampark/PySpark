{
  "cells": [
    {
      "cell_type": "markdown",
      "metadata": {
        "colab_type": "text",
        "id": "view-in-github"
      },
      "source": [
        "<a href=\"https://colab.research.google.com/github/laryscampark/PySpark/blob/main/Introdu%C3%A7ao_pypsark.ipynb\" target=\"_parent\"><img src=\"https://colab.research.google.com/assets/colab-badge.svg\" alt=\"Open In Colab\"/></a>"
      ]
    },
    {
      "cell_type": "markdown",
      "metadata": {
        "id": "boZWCs3wPbta"
      },
      "source": [
        "Introduçao ao PySpark"
      ]
    },
    {
      "cell_type": "markdown",
      "metadata": {
        "id": "av7DZpT-P0WM"
      },
      "source": [
        "Instalação do pyspark"
      ]
    },
    {
      "cell_type": "code",
      "execution_count": 1,
      "metadata": {
        "id": "af1T0M-2NnKZ"
      },
      "outputs": [
        {
          "name": "stdout",
          "output_type": "stream",
          "text": [
            "^C\n"
          ]
        }
      ],
      "source": [
        "! pip install pyspark"
      ]
    },
    {
      "cell_type": "markdown",
      "metadata": {
        "id": "ituENLlzP4OS"
      },
      "source": [
        "Importação das bibliotecas / funções"
      ]
    },
    {
      "cell_type": "code",
      "execution_count": 66,
      "metadata": {
        "id": "4GxK6HFjPU0W"
      },
      "outputs": [],
      "source": [
        "from pyspark.sql import SparkSession\n",
        "from pyspark.sql.functions import *\n",
        "from pyspark.sql.types import *"
      ]
    },
    {
      "cell_type": "markdown",
      "metadata": {
        "id": "6i4hniw-QJ7Y"
      },
      "source": [
        "Criar/Iniciar Sessão Pyspark"
      ]
    },
    {
      "cell_type": "code",
      "execution_count": 54,
      "metadata": {
        "id": "9hzpF9KqQO7-"
      },
      "outputs": [],
      "source": [
        "spark = (\n",
        "    SparkSession.builder\n",
        "    .master('local')\n",
        "    .appName('Pyspark_intro')\n",
        "    .getOrCreate()\n",
        ")"
      ]
    },
    {
      "cell_type": "markdown",
      "metadata": {
        "id": "DT8wrfDuRAsV"
      },
      "source": [
        "Criar DF - ler arquivo\n",
        "InferSchema - Aqui um dos métodos que é implementado é o inferSchema, responsável por dizer ao Spark qual é o schema esperado para que este data source funcione. No caso, esperamos que o dataframe possua uma coluna chamada value, coluna esta que será usada como corpo da mensagem gerada no SQS"
      ]
    },
    {
      "cell_type": "code",
      "execution_count": 68,
      "metadata": {
        "id": "3YXcqWthRFCi"
      },
      "outputs": [],
      "source": [
        "df = spark.read.csv('./teste.csv', sep=';', header=True, inferSchema=False)"
      ]
    },
    {
      "cell_type": "markdown",
      "metadata": {
        "id": "Jcm29-DgUopm"
      },
      "source": [
        "Exibir o dataframe"
      ]
    },
    {
      "cell_type": "code",
      "execution_count": null,
      "metadata": {
        "id": "LjNsLMV_UbXt"
      },
      "outputs": [],
      "source": [
        "df.show(10)"
      ]
    },
    {
      "cell_type": "markdown",
      "metadata": {
        "id": "5W7ik0bvWNkR"
      },
      "source": [
        "Verificar tipos de colunas"
      ]
    },
    {
      "cell_type": "code",
      "execution_count": null,
      "metadata": {
        "id": "-LAKMpFgWTC6"
      },
      "outputs": [],
      "source": [
        "df.printSchema()"
      ]
    },
    {
      "cell_type": "markdown",
      "metadata": {
        "id": "m9rJUQOjWdhg"
      },
      "source": [
        "verificar dados nulos - (transformando em pandas e verificando se é nulo e somando)"
      ]
    },
    {
      "cell_type": "code",
      "execution_count": null,
      "metadata": {
        "id": "OXg06snkWfza"
      },
      "outputs": [],
      "source": [
        "df.toPandas().isna().sum()"
      ]
    },
    {
      "cell_type": "markdown",
      "metadata": {
        "id": "S76b3vbKXSXo"
      },
      "source": [
        "Verificar dados nulos usando pyspark"
      ]
    },
    {
      "cell_type": "code",
      "execution_count": null,
      "metadata": {
        "id": "nJysnB3-XW11"
      },
      "outputs": [],
      "source": [
        "for coluna in df.columns:\n",
        "  print(coluna, df.filter(df[coluna].isNull()).count())"
      ]
    },
    {
      "cell_type": "markdown",
      "metadata": {
        "id": "hhhJlkYLYA1X"
      },
      "source": [
        "Renomear colunas com pyspark = df = df.withColumnRenamed('nome da coluna que quero mudar', 'nome atual')"
      ]
    },
    {
      "cell_type": "markdown",
      "metadata": {
        "id": "jSCn6Ia1aKNR"
      },
      "source": [
        "nome das colunas"
      ]
    },
    {
      "cell_type": "code",
      "execution_count": null,
      "metadata": {
        "id": "J-u8Az4WaHaZ"
      },
      "outputs": [],
      "source": [
        "df.columns"
      ]
    },
    {
      "cell_type": "markdown",
      "metadata": {
        "id": "RKJhzRXzaPsC"
      },
      "source": [
        "selecionar as colunas"
      ]
    },
    {
      "cell_type": "code",
      "execution_count": null,
      "metadata": {
        "id": "Xx9jkP9uaRBx"
      },
      "outputs": [],
      "source": [
        "df.select('nome', 'estado').show(5)"
      ]
    },
    {
      "cell_type": "markdown",
      "metadata": {
        "id": "TOqFu94aaxBV"
      },
      "source": [
        "outra forma de chamar coluna"
      ]
    },
    {
      "cell_type": "code",
      "execution_count": null,
      "metadata": {
        "id": "kRY7xBcDay_D"
      },
      "outputs": [],
      "source": [
        "df.select(col('nome'),col('estado')).show(5)"
      ]
    },
    {
      "cell_type": "markdown",
      "metadata": {
        "id": "0Sf-Qel4be6n"
      },
      "source": [
        "Selecionar colunas com alias (df.select(col('email'.alias('email')).show(5)"
      ]
    },
    {
      "cell_type": "markdown",
      "metadata": {
        "id": "4IGW3fCCcXNW"
      },
      "source": [
        "Filtrar os dataframe"
      ]
    },
    {
      "cell_type": "code",
      "execution_count": null,
      "metadata": {
        "id": "hdXSJBdmctYk"
      },
      "outputs": [],
      "source": [
        "df.filter(col('Nome')==\"Daniel Sanchez\").show(10)\n"
      ]
    },
    {
      "cell_type": "markdown",
      "metadata": {
        "id": "eJEOhTnL2abe"
      },
      "source": [
        "Organizar os select"
      ]
    },
    {
      "cell_type": "code",
      "execution_count": null,
      "metadata": {
        "id": "P_m6RM8n2cK9"
      },
      "outputs": [],
      "source": [
        "df.select('Nome Estado Cidade'.split()).show(5)"
      ]
    },
    {
      "cell_type": "code",
      "execution_count": null,
      "metadata": {
        "id": "_o8uRL1s4LRA"
      },
      "outputs": [],
      "source": [
        "df.select('nome', 'cidade', 'estado').show(5)"
      ]
    },
    {
      "cell_type": "markdown",
      "metadata": {
        "id": "pGKDyZqX7jD3"
      },
      "source": [
        "Filtar dataframes com 2 condições (And/&)"
      ]
    },
    {
      "cell_type": "code",
      "execution_count": null,
      "metadata": {
        "id": "4DyXnl2U8PO5"
      },
      "outputs": [],
      "source": [
        "df.show(15, truncate=False)"
      ]
    },
    {
      "cell_type": "code",
      "execution_count": null,
      "metadata": {
        "id": "AACVBmrf7sno"
      },
      "outputs": [],
      "source": [
        "df.filter((col('estado') == \"RJ\") & (col('nro') > 10)).show(5)"
      ]
    },
    {
      "cell_type": "markdown",
      "metadata": {
        "id": "ZnIws5wC-n5V"
      },
      "source": [
        "Outra forma de usar condições"
      ]
    },
    {
      "cell_type": "code",
      "execution_count": null,
      "metadata": {
        "id": "S6Wv-uTx-qm_"
      },
      "outputs": [],
      "source": [
        "df.filter('estado = \"sp\"').filter(col('nro') > 20).show(5)"
      ]
    },
    {
      "cell_type": "markdown",
      "metadata": {
        "id": "Qi6BftxJ_F1w"
      },
      "source": [
        "Filtar dataframe com 2 condiçoes (OR/I)"
      ]
    },
    {
      "cell_type": "code",
      "execution_count": null,
      "metadata": {
        "id": "kQTh3lGX_KnV"
      },
      "outputs": [],
      "source": [
        "df.filter((col('nome') == 'Elaine Cristina Balico') | (col('nome') == 'Daniel Sanchez')).show(5, truncate=False)"
      ]
    },
    {
      "cell_type": "markdown",
      "metadata": {
        "id": "F9AsQJsHBEve"
      },
      "source": [
        "Filtar dataframe combinando & e (AND E OR)"
      ]
    },
    {
      "cell_type": "code",
      "execution_count": null,
      "metadata": {
        "id": "DintHFAtBKRn"
      },
      "outputs": [],
      "source": [
        "df.filter((col('estado') == \"SP\") & (col('cidade') == \"Osasco\") | (col('nome') == \"Andre Sanchez\")).show(5, truncate=False)"
      ]
    },
    {
      "cell_type": "markdown",
      "metadata": {
        "id": "C-4QefrICwyF"
      },
      "source": [
        "Criaçao de novas colunas (usando a função lit) - utilizamos o withColumn para a criação de novas colunas"
      ]
    },
    {
      "cell_type": "markdown",
      "metadata": {
        "id": "UzOKIbTwEBfQ"
      },
      "source": [
        "Podemos utilizar o lit também para calculos ex: df.withColumn('teste', lit(col('teste2') - col('teste3'))).show(5)"
      ]
    },
    {
      "cell_type": "code",
      "execution_count": 72,
      "metadata": {
        "id": "Q7G72IhIC2-P"
      },
      "outputs": [],
      "source": [
        "df = df.withColumn('Ano de Vendas', lit(2023))"
      ]
    },
    {
      "cell_type": "markdown",
      "metadata": {
        "id": "-wWukI3ZEil6"
      },
      "source": [
        "Criar coluna condicional (usando a função substring) = Usando a substring()função de pyspark.sql.functionsmódulo, podemos extrair uma substring ou fatia de uma string da coluna DataFrame, fornecendo a posição e o comprimento da string que você deseja fatiar."
      ]
    },
    {
      "cell_type": "code",
      "execution_count": null,
      "metadata": {
        "id": "CoXiD8AqEomY"
      },
      "outputs": [],
      "source": [
        "df.withColumn('Sub', substring('nome', 1, 8)).show(5, truncate=False)"
      ]
    },
    {
      "cell_type": "markdown",
      "metadata": {
        "id": "jW0Mnw_nHIMK"
      },
      "source": [
        "Caso eu queira sobrepor meu dataframe e modificar = df = df.withColumn('Ano', substring('Nascimento', -4,4))"
      ]
    },
    {
      "cell_type": "markdown",
      "metadata": {
        "id": "O6C_1ECLHebK"
      },
      "source": [
        "Criar a coluna condicional (concat/concat_ws) = concatena múltiplas colunas do DataFrame em uma única coluna. Neste artigo, explicarei as diferenças entre concat() e concat_ws() (concat com separador)"
      ]
    },
    {
      "cell_type": "code",
      "execution_count": null,
      "metadata": {
        "id": "BvNq0popH4dR"
      },
      "outputs": [],
      "source": [
        "df.withColumn('Concat', concat('estado', 'cidade')).show(5, truncate=False)"
      ]
    },
    {
      "cell_type": "code",
      "execution_count": null,
      "metadata": {
        "id": "QTQB_m1sNDR0"
      },
      "outputs": [],
      "source": [
        "df.withColumn('Separador', concat_ws(' - ','nome','cidade', 'estado')).show(6, truncate=False)"
      ]
    },
    {
      "cell_type": "markdown",
      "metadata": {
        "id": "xa8ZdoNrNfl5"
      },
      "source": [
        "Para Alterar o tipo da coluna"
      ]
    },
    {
      "cell_type": "code",
      "execution_count": null,
      "metadata": {
        "id": "eq2bskFuN9-J"
      },
      "outputs": [],
      "source": [
        "df.printSchema()"
      ]
    },
    {
      "cell_type": "markdown",
      "metadata": {
        "id": "mvX_Ib9zSeF7"
      },
      "source": [
        "df = df.withColumn('Ano', col('Ano').cast(IntegerType()))"
      ]
    },
    {
      "cell_type": "code",
      "execution_count": null,
      "metadata": {
        "id": "6SIBd9GDS1Qn"
      },
      "outputs": [],
      "source": []
    }
  ],
  "metadata": {
    "colab": {
      "authorship_tag": "ABX9TyP4jSgkzamrsfePRbETi6qn",
      "include_colab_link": true,
      "provenance": []
    },
    "kernelspec": {
      "display_name": "Python 3",
      "name": "python3"
    },
    "language_info": {
      "codemirror_mode": {
        "name": "ipython",
        "version": 3
      },
      "file_extension": ".py",
      "mimetype": "text/x-python",
      "name": "python",
      "nbconvert_exporter": "python",
      "pygments_lexer": "ipython3",
      "version": "3.12.2"
    }
  },
  "nbformat": 4,
  "nbformat_minor": 0
}
